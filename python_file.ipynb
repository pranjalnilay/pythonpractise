{
 "cells": [
  {
   "cell_type": "markdown",
   "metadata": {
    "colab_type": "text",
    "id": "VYHYWILh_QR_"
   },
   "source": [
    "# Control Structures and Functions\n",
    "Control structures are the essence of programming; they help computers do what they do best: automate repetitive tasks intelligently. The most common control structures are if-else statements, for and while loops, and list and dictionary comprehensions. This session will cover all these concepts."
   ]
  },
  {
   "cell_type": "markdown",
   "metadata": {
    "colab_type": "text",
    "id": "8b4dnOz__g7J"
   },
   "source": [
    "### If statements\n",
    "\"IF\" statements are imperative in Python and they help us build programs that could make decisions based on a specified condition\n",
    "\n",
    "\n",
    "*   If I am tired, I'll go to bed\n",
    "\n",
    "*   If I am hungry, I'll order food\n",
    "\n",
    "Notice all these applications start with the word 'IF' and that is the first way we are going to control our applications.\n",
    "\n",
    "And before writing down a code to mimic a decision, let us first look at the relational operators that would help us test or define some kind of relation between two entities.\n",
    "\n",
    "Relational operators are used to test equality or inequality of a condition and that condition might change based on your preference.\n",
    "\n",
    "```\n",
    "Example -\n",
    "If its raining == True:\n",
    "  I'll get an umbrella\n",
    "\n",
    "```\n",
    "\n",
    "\n",
    "\n",
    "\n",
    "\n",
    "\n",
    "\n"
   ]
  },
  {
   "cell_type": "markdown",
   "metadata": {
    "colab_type": "text",
    "id": "f4WSUQ-w3iuJ"
   },
   "source": [
    "<h2 style = \"color:Brown\"> Relational Operators</h2>\n",
    "\n",
    "- Compares the values on either side of the operator and returns and boolean value as True or False."
   ]
  },
  {
   "cell_type": "markdown",
   "metadata": {
    "colab_type": "text",
    "id": "Gps_yrgv3iuL"
   },
   "source": [
    "#### Double equal to operator"
   ]
  },
  {
   "cell_type": "code",
   "execution_count": null,
   "metadata": {
    "colab": {},
    "colab_type": "code",
    "id": "A5Z1SNdU3iuN"
   },
   "outputs": [],
   "source": [
    "10 == 10"
   ]
  },
  {
   "cell_type": "markdown",
   "metadata": {
    "colab_type": "text",
    "id": "EESTMWWj3iul"
   },
   "source": [
    "<h4 style = \"color:Red\">Note</h3>\n",
    "\n",
    "#####' = ' is an assignment operator; it is used to assign value to a variable on the left.\n",
    "\n",
    "#####'==' is a relational operator; it is used for comparision of equality."
   ]
  },
  {
   "cell_type": "code",
   "execution_count": null,
   "metadata": {
    "colab": {},
    "colab_type": "code",
    "id": "-1KfbhEY3iuo"
   },
   "outputs": [],
   "source": [
    "10 == 5"
   ]
  },
  {
   "cell_type": "markdown",
   "metadata": {
    "colab_type": "text",
    "id": "5fbw7E9z3iuz"
   },
   "source": [
    "#### Not equal to operator"
   ]
  },
  {
   "cell_type": "code",
   "execution_count": null,
   "metadata": {
    "colab": {},
    "colab_type": "code",
    "id": "55-0vgdM3iu0"
   },
   "outputs": [],
   "source": [
    "10 != 5"
   ]
  },
  {
   "cell_type": "markdown",
   "metadata": {
    "colab_type": "text",
    "id": "V06qe86n3iu7"
   },
   "source": [
    "#### Greater than operator"
   ]
  },
  {
   "cell_type": "code",
   "execution_count": null,
   "metadata": {
    "colab": {},
    "colab_type": "code",
    "id": "8c2J3yHa3iu8"
   },
   "outputs": [],
   "source": [
    "10 > 5"
   ]
  },
  {
   "cell_type": "markdown",
   "metadata": {
    "colab_type": "text",
    "id": "uhsbgfZC3ivE"
   },
   "source": [
    "#### Less than operator"
   ]
  },
  {
   "cell_type": "code",
   "execution_count": null,
   "metadata": {
    "colab": {},
    "colab_type": "code",
    "id": "HQsCDc2T3ivG"
   },
   "outputs": [],
   "source": [
    "10 < 5"
   ]
  },
  {
   "cell_type": "markdown",
   "metadata": {
    "colab_type": "text",
    "id": "TRSrE9Tl3ivL"
   },
   "source": [
    "#### Greater than equal to operator"
   ]
  },
  {
   "cell_type": "code",
   "execution_count": null,
   "metadata": {
    "colab": {},
    "colab_type": "code",
    "id": "l0cL7sHQ3ivN"
   },
   "outputs": [],
   "source": [
    "10 <= 5"
   ]
  },
  {
   "cell_type": "markdown",
   "metadata": {
    "colab_type": "text",
    "id": "6Xy2aGJP3ivh"
   },
   "source": [
    "#### Less than equal to operator"
   ]
  },
  {
   "cell_type": "code",
   "execution_count": null,
   "metadata": {
    "colab": {},
    "colab_type": "code",
    "id": "zRkIc8Xe3ivj"
   },
   "outputs": [],
   "source": [
    "10 >= 5"
   ]
  },
  {
   "cell_type": "markdown",
   "metadata": {
    "colab_type": "text",
    "id": "BbXHSZ1M3ivm"
   },
   "source": [
    "<h2 style = \"color:Brown\">Decision Making"
   ]
  },
  {
   "cell_type": "markdown",
   "metadata": {
    "colab_type": "text",
    "id": "8p6uKB0lcSoF"
   },
   "source": [
    "Now let's get back to writing a conditional statement with the 'if' condition\n",
    "\n",
    "To do that we would write it 'if' followed by an expression"
   ]
  },
  {
   "cell_type": "markdown",
   "metadata": {
    "colab_type": "text",
    "id": "KfhONX4H3ivn"
   },
   "source": [
    "#### Write a program to check value in variable x is less than 99"
   ]
  },
  {
   "cell_type": "code",
   "execution_count": null,
   "metadata": {
    "colab": {
     "base_uri": "https://localhost:8080/",
     "height": 35
    },
    "colab_type": "code",
    "id": "4ZDYkAze3ivo",
    "outputId": "40826ac5-f12a-4f1f-83f6-2abfcf8a4fee"
   },
   "outputs": [
    {
     "name": "stdout",
     "output_type": "stream",
     "text": [
      "45 is less than 99\n"
     ]
    }
   ],
   "source": [
    "x = 45\n",
    "\n",
    "if x < 99:\n",
    "    print(x, \"is less than 99\")\n",
    "else:\n",
    "    print(x, \"is more than 99\")"
   ]
  },
  {
   "cell_type": "code",
   "execution_count": null,
   "metadata": {
    "colab": {
     "base_uri": "https://localhost:8080/",
     "height": 35
    },
    "colab_type": "code",
    "id": "l6aIIucEm94-",
    "outputId": "95f2511c-1e4c-48c8-e5fd-3115a936e252"
   },
   "outputs": [
    {
     "name": "stdout",
     "output_type": "stream",
     "text": [
      "919  is more than 99\n"
     ]
    }
   ],
   "source": [
    "x = 919\n",
    "\n",
    "if x < 99:\n",
    "    print(x, \"is less than equal to 99\")\n",
    "elif x == 99:\n",
    "    print(x, \"is equal to 99\")\n",
    "else:\n",
    "    print(x, \" is more than 99\") "
   ]
  },
  {
   "cell_type": "markdown",
   "metadata": {
    "colab_type": "text",
    "id": "B-_K63jpUlnP"
   },
   "source": [
    "## Logical Operators\n",
    "We use logical operators in situations where we have multiple conditions\n",
    "\n",
    "####   AND\n",
    "####   OR\n",
    "####   NOR\n",
    "####   XOR\n",
    "\n",
    "Are some of the common and most widely used logical operators\n",
    "You can learn more about them from this link: https://pythonlessons.net/python-logic-gates/\n",
    "\n",
    "\n"
   ]
  },
  {
   "cell_type": "markdown",
   "metadata": {
    "colab_type": "text",
    "id": "_3rFgEsl3ivu"
   },
   "source": [
    "#### Write a program to record the age of visitor and allows him to an exclusive children's day party hosted by Mr Obama only if he or she is above 60 years or below 18 years of age"
   ]
  },
  {
   "cell_type": "code",
   "execution_count": null,
   "metadata": {
    "colab": {},
    "colab_type": "code",
    "id": "iLt7oLKA3ivv"
   },
   "outputs": [],
   "source": [
    "x = int(input(\"Enter your age : \"))\n",
    "\n",
    "if x <= 18 or x >= 60 :\n",
    "    print(\"Welcome to Party!!\")\n",
    "else:\n",
    "    print(\"Sorry!! you do not fit in the age criteria\")"
   ]
  },
  {
   "cell_type": "markdown",
   "metadata": {
    "colab_type": "text",
    "id": "9hzS6trQ3ivy"
   },
   "source": [
    "#### Write a program which offers various discounts based on purchase bills"
   ]
  },
  {
   "cell_type": "code",
   "execution_count": null,
   "metadata": {
    "colab": {},
    "colab_type": "code",
    "id": "dsV8l-O_3iv2"
   },
   "outputs": [],
   "source": [
    "shoppinng_total = 550\n",
    "\n",
    "if shoppinng_total >= 500:\n",
    "    print(\"You won a discount voucher of flat 1000 on next purchase\")\n",
    "elif shoppinng_total >= 250:\n",
    "    print(\"You won a discount voucher of flat 500 on next purchase\")\n",
    "elif shoppinng_total >= 100:\n",
    "    print(\"You won a discount voucher of flat 100 on next purchase\")    \n",
    "else:\n",
    "    print(\"OOPS!! no discount for you!!!\")"
   ]
  },
  {
   "cell_type": "markdown",
   "metadata": {
    "colab_type": "text",
    "id": "3eUbaeYR3iv9"
   },
   "source": [
    "#### Example on nested if-else"
   ]
  },
  {
   "cell_type": "code",
   "execution_count": null,
   "metadata": {
    "colab": {},
    "colab_type": "code",
    "id": "CE2giXPg3iv-"
   },
   "outputs": [],
   "source": [
    "world_cups = {2019 : ['England', 'New Zealand'], 2015:[\"Australia\", \"New Zealand\"], 2011 : [\"India\", \"Sri Lanka\"], 2007: [\"Australia\", \"Sri Lanka\"], 2003: [\"Australia\", \"India\"]}\n",
    "\n",
    "year = int(input(\"Enter year to check New Zealand made it to Finals in 20th century : \"))\n",
    "\n",
    "if year in world_cups :\n",
    "    if \"New Zealand\" in world_cups[year] :\n",
    "        print(\"New Zealand made it to Finals\")\n",
    "    else:\n",
    "        print(\"New Zealand could not make it to Finals\")\n",
    "        \n",
    "else:\n",
    "    print(\"World cup wasn't played in\", year)\n"
   ]
  },
  {
   "cell_type": "code",
   "execution_count": 7,
   "metadata": {},
   "outputs": [
    {
     "name": "stdout",
     "output_type": "stream",
     "text": [
      "YES\n"
     ]
    }
   ],
   "source": [
    "X = 12\n",
    "\n",
    "if X > 10 & X < 15:\n",
    "    print('YES')\n",
    "else:\n",
    "    print('No')"
   ]
  },
  {
   "cell_type": "markdown",
   "metadata": {
    "colab_type": "text",
    "id": "5tqQiXz03iwC"
   },
   "source": [
    "<h2 style = \"color:Brown\">Loops and Iterations\n"
   ]
  },
  {
   "cell_type": "markdown",
   "metadata": {
    "colab_type": "text",
    "id": "IAgap-5oyzJk"
   },
   "source": [
    "Let’s look at a small example where you have a person’s income and expense data across five months in the form of a list, and you want to compute his savings across these five months. You may be thinking of doing this manually by taking the first elements from the two lists and subtracting them, then again taking the second elements and subtracting, and so on. This may look simple, but let’s say it is across 10 or 20 years. Would you do the same? \n",
    "\n",
    " \n",
    "\n",
    "This is where the concept of iteration comes in handy, as you are repeating the same operation multiple times. With this in mind, let’s learn more about it."
   ]
  },
  {
   "cell_type": "markdown",
   "metadata": {
    "colab_type": "text",
    "id": "-Cx71ieozcRb"
   },
   "source": [
    "Let's start with a simple 'While' loop - \n",
    "##### A while loop begins with a keyword 'While' followed by an expression \n",
    "##### So While this condition is satisfied keep running the loop"
   ]
  },
  {
   "cell_type": "code",
   "execution_count": null,
   "metadata": {
    "colab": {
     "base_uri": "https://localhost:8080/",
     "height": 54
    },
    "colab_type": "code",
    "id": "zjDKltm_0_wQ",
    "outputId": "de46af96-707b-46de-fc3f-3f965f405b3a"
   },
   "outputs": [
    {
     "name": "stdout",
     "output_type": "stream",
     "text": [
      "Enter your four digit pin: 1234\n",
      "Welcome\n"
     ]
    }
   ],
   "source": [
    "# Let's create a pin checker which we generally have in our phones or ATMs\n",
    "pin = input(\"Enter your four digit pin: \")\n",
    "while pin != '1234':\n",
    "    pin = input('Invalid input, please try again: ')  \n",
    "print(\"Pin validation successful.\")"
   ]
  },
  {
   "cell_type": "code",
   "execution_count": null,
   "metadata": {
    "colab": {
     "base_uri": "https://localhost:8080/",
     "height": 208
    },
    "colab_type": "code",
    "id": "FgRx4FMl2-dI",
    "outputId": "bd16f4de-232b-4b2c-ec98-0c0a8587a6fd"
   },
   "outputs": [
    {
     "name": "stdout",
     "output_type": "stream",
     "text": [
      "Enter your four digit pin: 1111\n",
      "Invalid input, please try again: 2222\n",
      "Invalid input, please try again: 3456\n"
     ]
    },
    {
     "ename": "SystemExit",
     "evalue": "ignored",
     "output_type": "error",
     "traceback": [
      "An exception has occurred, use %tb to see the full traceback.\n",
      "\u001b[0;31mSystemExit\u001b[0m\u001b[0;31m:\u001b[0m Too many invalid attempts\n"
     ]
    },
    {
     "name": "stderr",
     "output_type": "stream",
     "text": [
      "/usr/local/lib/python3.6/dist-packages/IPython/core/interactiveshell.py:2890: UserWarning: To exit: use 'exit', 'quit', or Ctrl-D.\n",
      "  warn(\"To exit: use 'exit', 'quit', or Ctrl-D.\", stacklevel=1)\n"
     ]
    }
   ],
   "source": [
    "# Now if we want to add a maximum number of tries allowed condition we'll use the if loop\n",
    "\n",
    "import sys    #required for exiting the code and displaying an error\n",
    "\n",
    "pin = input(\"Enter your four digit pin: \")\n",
    "attempt_count = 1\n",
    "while pin != '1234':\n",
    "    if attempt_count >= 3:\n",
    "     sys.exit(\"Too many invalid attempts\")   #error code\n",
    "    pin = input('Invalid input, please try again: ')  \n",
    "    attempt_count += 1\n",
    "print(\"Pin validation successful.\")"
   ]
  },
  {
   "cell_type": "markdown",
   "metadata": {
    "colab_type": "text",
    "id": "GXMTk6P4VRZr"
   },
   "source": []
  },
  {
   "cell_type": "code",
   "execution_count": null,
   "metadata": {
    "colab": {},
    "colab_type": "code",
    "id": "UkSzDrOZ3iwD"
   },
   "outputs": [],
   "source": [
    "# iterate over list of integers\n",
    "\n",
    "l = [1,3,4,2,5,6]\n",
    "for i in l : \n",
    "    print(i)"
   ]
  },
  {
   "cell_type": "code",
   "execution_count": null,
   "metadata": {
    "colab": {},
    "colab_type": "code",
    "id": "lfc9wsgq3iwK"
   },
   "outputs": [],
   "source": [
    "# iterate over a string\n",
    "\n",
    "string = \"New York\"\n",
    "for ch in string:\n",
    "    print(ch)"
   ]
  },
  {
   "cell_type": "code",
   "execution_count": null,
   "metadata": {
    "colab": {},
    "colab_type": "code",
    "id": "9x7XZeZR3iwT"
   },
   "outputs": [],
   "source": [
    "# iterate over a string - modify print using end\n",
    "\n",
    "string = \"New York\"\n",
    "for ch in string:\n",
    "    print(ch, end = \":\") # default value of end = \"\\n\""
   ]
  },
  {
   "cell_type": "code",
   "execution_count": 18,
   "metadata": {
    "colab": {},
    "colab_type": "code",
    "id": "duDv2EGB3iwX"
   },
   "outputs": [
    {
     "name": "stdout",
     "output_type": "stream",
     "text": [
      "1 ['Sam', 24]\n",
      "2 ['Rob', 25]\n",
      "3 ['Jack', 26]\n",
      "4 ['Cornor', 24]\n",
      "5 ['Trump', 27]\n"
     ]
    }
   ],
   "source": [
    "# iterating over a dictionary\n",
    "\n",
    "students_data = {1:['Sam', 24] , 2:['Rob',25], 3:['Jack', 26], 4:['Cornor',24], 5:['Trump',27]}\n",
    "for key, val in students_data.items():\n",
    "    print(key, val)"
   ]
  },
  {
   "cell_type": "code",
   "execution_count": null,
   "metadata": {
    "colab": {},
    "colab_type": "code",
    "id": "LW6SLLMI3iwf"
   },
   "outputs": [],
   "source": [
    "# iterate over keys of a dictionary\n",
    "for key in students_data.keys():\n",
    "    print(key)"
   ]
  },
  {
   "cell_type": "code",
   "execution_count": 29,
   "metadata": {},
   "outputs": [
    {
     "data": {
      "text/plain": [
       "[-100,\n",
       " -98,\n",
       " -96,\n",
       " -94,\n",
       " -92,\n",
       " -90,\n",
       " -88,\n",
       " -86,\n",
       " -84,\n",
       " -82,\n",
       " -80,\n",
       " -78,\n",
       " -76,\n",
       " -74,\n",
       " -72,\n",
       " -70,\n",
       " -68,\n",
       " -66,\n",
       " -64,\n",
       " -62,\n",
       " -60,\n",
       " -58,\n",
       " -56,\n",
       " -54,\n",
       " -52,\n",
       " -50,\n",
       " -48,\n",
       " -46,\n",
       " -44,\n",
       " -42,\n",
       " -40,\n",
       " -38,\n",
       " -36,\n",
       " -34,\n",
       " -32,\n",
       " -30,\n",
       " -28,\n",
       " -26,\n",
       " -24,\n",
       " -22,\n",
       " -20,\n",
       " -18,\n",
       " -16,\n",
       " -14,\n",
       " -12,\n",
       " -10,\n",
       " -8,\n",
       " -6,\n",
       " -4,\n",
       " -2]"
      ]
     },
     "execution_count": 29,
     "metadata": {},
     "output_type": "execute_result"
    }
   ],
   "source": [
    "l = []\n",
    "for i in range(-100, 0):\n",
    "    if(i % 2 == 0):\n",
    "        l.append(i)\n",
    "l"
   ]
  },
  {
   "cell_type": "code",
   "execution_count": null,
   "metadata": {
    "colab": {},
    "colab_type": "code",
    "id": "1TGQErz23iwk"
   },
   "outputs": [],
   "source": [
    "# Generate range of values.\n",
    "range(1, 101)"
   ]
  },
  {
   "cell_type": "code",
   "execution_count": null,
   "metadata": {
    "colab": {},
    "colab_type": "code",
    "id": "UZsdmFak3iwr"
   },
   "outputs": [],
   "source": [
    "l = list(range(1,101))\n",
    "l"
   ]
  },
  {
   "cell_type": "code",
   "execution_count": null,
   "metadata": {
    "colab": {},
    "colab_type": "code",
    "id": "SUy2Ac_u3iww"
   },
   "outputs": [],
   "source": [
    "# Iterate over range of values\n",
    "\n",
    "for i in range(1, 101):\n",
    "    print(i, end = \" \")"
   ]
  },
  {
   "cell_type": "code",
   "execution_count": null,
   "metadata": {
    "colab": {},
    "colab_type": "code",
    "id": "64kf2bNG3iw0"
   },
   "outputs": [],
   "source": [
    "# different variations in range\n",
    "\n",
    "print(list(range(1, 100, 2) ))# gives numbers from 1 to 100 with a step count of 2\n",
    "print(list(range(100, 0, -1))) # gives a reversed sequence of numbers from 100 to 1"
   ]
  },
  {
   "cell_type": "markdown",
   "metadata": {
    "colab_type": "text",
    "id": "IkvsCbO03iw4"
   },
   "source": [
    "#### Ex. Write a program to print prime numbers between 1 to 20"
   ]
  },
  {
   "cell_type": "code",
   "execution_count": null,
   "metadata": {
    "colab": {},
    "colab_type": "code",
    "id": "1MX9b5vR3iw5"
   },
   "outputs": [],
   "source": [
    "for n in range(1, 20):\n",
    "    flag = True\n",
    "    for i in range(2, n):\n",
    "        if n % i == 0:\n",
    "            flag = False\n",
    "            break   \n",
    "    if flag :\n",
    "        print(n)"
   ]
  },
  {
   "cell_type": "markdown",
   "metadata": {
    "colab_type": "text",
    "id": "l2HAhe0H3ixL"
   },
   "source": [
    "<h2 style = \"color:Brown\">Comprehensions"
   ]
  },
  {
   "cell_type": "code",
   "execution_count": null,
   "metadata": {
    "colab": {},
    "colab_type": "code",
    "id": "q4QFdX0Q3ixN",
    "outputId": "1704b7c2-a8c5-44fb-a9b5-00411b9a8fa6"
   },
   "outputs": [
    {
     "data": {
      "text/plain": [
       "[11, 5, 4, 6, 14]"
      ]
     },
     "execution_count": 11,
     "metadata": {
      "tags": []
     },
     "output_type": "execute_result"
    }
   ],
   "source": [
    "l1 = [\"automobiles\", \"Honda\", \"Benz\", \"Suzuki\", \"Morris Garages\" ]\n",
    "\n",
    "l2 = []\n",
    "\n",
    "for i in l1 :\n",
    "    l2.append(len(i))\n",
    "    \n",
    "l2 "
   ]
  },
  {
   "cell_type": "markdown",
   "metadata": {
    "colab_type": "text",
    "id": "iT-0Q4eE3ixR"
   },
   "source": [
    "#### The Functional Approach"
   ]
  },
  {
   "cell_type": "code",
   "execution_count": null,
   "metadata": {
    "colab": {},
    "colab_type": "code",
    "id": "xUShDG1-3ixS",
    "outputId": "139ab248-dcc1-4340-83cb-e1db38562d98"
   },
   "outputs": [
    {
     "name": "stdout",
     "output_type": "stream",
     "text": [
      "[11, 5, 4, 6, 14]\n"
     ]
    }
   ],
   "source": [
    "# Example on list comprehension\n",
    "\n",
    "l1 = [\"automobiles\", \"Honda\", \"Benz\", \"Suzuki\", \"Morris Garages\" ]\n",
    "\n",
    "# Create a list consisting of length of each element from the above list\n",
    "\n",
    "l2 = [len(i) for i in l1]\n",
    "\n",
    "print(l2)"
   ]
  },
  {
   "cell_type": "code",
   "execution_count": 30,
   "metadata": {},
   "outputs": [],
   "source": [
    "l1 = [\"automobiles\", \"Honda\", \"Benz\", \"Suzuki\", \"Morris Garages\" ]"
   ]
  },
  {
   "cell_type": "code",
   "execution_count": 34,
   "metadata": {},
   "outputs": [
    {
     "data": {
      "text/plain": [
       "['AUTOMOBILES', 'HONDA', 'BENZ', 'SUZUKI', 'MORRIS GARAGES']"
      ]
     },
     "execution_count": 34,
     "metadata": {},
     "output_type": "execute_result"
    }
   ],
   "source": [
    "l2 = [(word.upper()) for word in l1]\n",
    "l2"
   ]
  },
  {
   "cell_type": "code",
   "execution_count": 37,
   "metadata": {},
   "outputs": [
    {
     "name": "stdout",
     "output_type": "stream",
     "text": [
      "{'A': 'aaa', 'C': 'ccc', 'B': 'bbb', 'D': 'ddd'}\n"
     ]
    }
   ],
   "source": [
    "d = {x.upper(): x*3 for x in 'acbd'}\n",
    "print(d)"
   ]
  },
  {
   "cell_type": "code",
   "execution_count": null,
   "metadata": {
    "colab": {},
    "colab_type": "code",
    "id": "VJgNB5f43ixc",
    "outputId": "466e6380-2cfc-480a-e758-b50b0921551b"
   },
   "outputs": [
    {
     "name": "stdout",
     "output_type": "stream",
     "text": [
      "automobiles  -  11\n",
      "Honda  -  5\n",
      "Benz  -  4\n",
      "Suzuki  -  6\n",
      "Morris Garages  -  14\n"
     ]
    }
   ],
   "source": [
    "# iterating over l1 and l2 simultaneously\n",
    "\n",
    "for i,j in zip(l1,l2):\n",
    "    print(i, \" - \", j)"
   ]
  },
  {
   "cell_type": "markdown",
   "metadata": {
    "colab_type": "text",
    "id": "iK_zyRqO3ixi"
   },
   "source": [
    "#### Dictionary comprehension"
   ]
  },
  {
   "cell_type": "code",
   "execution_count": null,
   "metadata": {
    "colab": {},
    "colab_type": "code",
    "id": "I3h6sW-I3ixj",
    "outputId": "83aa55f9-d453-4880-d869-170d03bb827f"
   },
   "outputs": [
    {
     "name": "stdout",
     "output_type": "stream",
     "text": [
      "{'automobiles': 11, 'Honda': 5, 'Benz': 4, 'Suzuki': 6, 'Morris Garages': 14}\n"
     ]
    }
   ],
   "source": [
    "# Example on dictionary comprehension\n",
    "\n",
    "l1 = [\"automobiles\", \"Honda\", \"Benz\", \"Suzuki\", \"Morris Garages\" ]\n",
    "\n",
    "# Create a dictionary consisting of element and length of each element from the above list\n",
    "\n",
    "d = {i : len(i) for i in l1}\n",
    "\n",
    "print(d)"
   ]
  },
  {
   "cell_type": "markdown",
   "metadata": {
    "colab_type": "text",
    "id": "yQ_-6lEg3ixs"
   },
   "source": [
    "#### Set Comprehensions\n",
    "\n",
    "#### Ex . Write a program which takes a word as input from user and returns vowels from the word"
   ]
  },
  {
   "cell_type": "code",
   "execution_count": null,
   "metadata": {
    "colab": {},
    "colab_type": "code",
    "id": "cydGA87j3ixu",
    "outputId": "f5d4c900-8aef-4715-9954-f80f847a7f53"
   },
   "outputs": [
    {
     "name": "stdout",
     "output_type": "stream",
     "text": [
      "Enter a word : aeroplane\n"
     ]
    },
    {
     "data": {
      "text/plain": [
       "{'a', 'e', 'o'}"
      ]
     },
     "execution_count": 15,
     "metadata": {
      "tags": []
     },
     "output_type": "execute_result"
    }
   ],
   "source": [
    "word = input(\"Enter a word : \")\n",
    "vowels = {i for i in word if i in \"aeiou\"}\n",
    "vowels"
   ]
  },
  {
   "cell_type": "markdown",
   "metadata": {
    "colab_type": "text",
    "id": "YU9T02GC3ix5"
   },
   "source": [
    "<h2 style = \"color:Brown\">Functions</h2>\n",
    "\n",
    "#### Ex. Write a function which takes a value as a parameter and returns its factorial"
   ]
  },
  {
   "cell_type": "code",
   "execution_count": null,
   "metadata": {
    "colab": {},
    "colab_type": "code",
    "id": "_BLzz8K_3ix6",
    "outputId": "a8242ced-ff67-458e-a6c5-be991887c048"
   },
   "outputs": [
    {
     "data": {
      "text/plain": [
       "120"
      ]
     },
     "execution_count": 16,
     "metadata": {
      "tags": []
     },
     "output_type": "execute_result"
    }
   ],
   "source": [
    "def factorial(n):\n",
    "    \n",
    "    fact = 1\n",
    "    \n",
    "    for i in range(1, n+1):\n",
    "        fact *= i\n",
    "    \n",
    "    return fact\n",
    "\n",
    "factorial(5)"
   ]
  },
  {
   "cell_type": "code",
   "execution_count": null,
   "metadata": {
    "colab": {},
    "colab_type": "code",
    "id": "9WzZPKob3iyA",
    "outputId": "4c156e9c-f839-4d44-86dc-e70e8bde72fa"
   },
   "outputs": [
    {
     "ename": "TypeError",
     "evalue": "factorial() missing 1 required positional argument: 'n'",
     "output_type": "error",
     "traceback": [
      "\u001b[0;31m---------------------------------------------------------------------------\u001b[0m",
      "\u001b[0;31mTypeError\u001b[0m                                 Traceback (most recent call last)",
      "\u001b[0;32m<ipython-input-17-46dc121ebbf1>\u001b[0m in \u001b[0;36m<module>\u001b[0;34m\u001b[0m\n\u001b[0;32m----> 1\u001b[0;31m \u001b[0mfactorial\u001b[0m\u001b[0;34m(\u001b[0m\u001b[0;34m)\u001b[0m\u001b[0;34m\u001b[0m\u001b[0;34m\u001b[0m\u001b[0m\n\u001b[0m",
      "\u001b[0;31mTypeError\u001b[0m: factorial() missing 1 required positional argument: 'n'"
     ]
    }
   ],
   "source": [
    "factorial()"
   ]
  },
  {
   "cell_type": "markdown",
   "metadata": {
    "colab_type": "text",
    "id": "j4eld4EW3iyO"
   },
   "source": [
    "#### Function Arguments"
   ]
  },
  {
   "cell_type": "code",
   "execution_count": null,
   "metadata": {
    "colab": {},
    "colab_type": "code",
    "id": "TBrV-SMN3iyQ"
   },
   "outputs": [],
   "source": [
    "def func(name, age = 35):  # default parameter\n",
    "    print(\"name : \", name)\n",
    "    print(\"age : \", age)"
   ]
  },
  {
   "cell_type": "code",
   "execution_count": null,
   "metadata": {
    "colab": {},
    "colab_type": "code",
    "id": "Kjhs3xXB3iya",
    "outputId": "15566507-e2e0-4e33-f220-ffdb535e0961"
   },
   "outputs": [
    {
     "name": "stdout",
     "output_type": "stream",
     "text": [
      "name :  Jane\n",
      "age :  25\n"
     ]
    }
   ],
   "source": [
    "func(\"Jane\", 25)"
   ]
  },
  {
   "cell_type": "code",
   "execution_count": null,
   "metadata": {
    "colab": {},
    "colab_type": "code",
    "id": "gcFhQfK63iyg",
    "outputId": "d96e674e-2cb2-4561-87c0-73ee57eb8131"
   },
   "outputs": [
    {
     "name": "stdout",
     "output_type": "stream",
     "text": [
      "name :  Jane\n",
      "age :  35\n"
     ]
    }
   ],
   "source": [
    "func(\"Jane\")"
   ]
  },
  {
   "cell_type": "code",
   "execution_count": null,
   "metadata": {
    "colab": {
     "base_uri": "https://localhost:8080/",
     "height": 72
    },
    "colab_type": "code",
    "id": "-ru45WBK3iym",
    "outputId": "e1d4a75f-f360-456b-a368-65eb9e639546"
   },
   "outputs": [
    {
     "name": "stdout",
     "output_type": "stream",
     "text": [
      "name :  Jane\n",
      "age :  35\n",
      "city :  Seattle\n"
     ]
    }
   ],
   "source": [
    "def func(name, age = 35, city = \"New York\"):\n",
    "    print(\"name : \", name)\n",
    "    print(\"age : \", age)\n",
    "    print(\"city : \", city)\n",
    "    \n",
    "func(\"Jane\", city = \"Seattle\") # key-word argument"
   ]
  },
  {
   "cell_type": "code",
   "execution_count": null,
   "metadata": {
    "colab": {},
    "colab_type": "code",
    "id": "3GQBDj2c3iys",
    "outputId": "16f60ff4-a676-4635-9200-a5f5b6c5ce71"
   },
   "outputs": [
    {
     "name": "stdout",
     "output_type": "stream",
     "text": [
      "(1, 3, 'abc')\n"
     ]
    }
   ],
   "source": [
    "def var_func(*args):\n",
    "    print(args)\n",
    "    \n",
    "var_func(1,3,\"abc\") # variable-length argument"
   ]
  },
  {
   "cell_type": "markdown",
   "metadata": {
    "colab_type": "text",
    "id": "a8Wi284I3iy0"
   },
   "source": [
    "<h2 style = \"color:Brown\"> Lambda Function"
   ]
  },
  {
   "cell_type": "code",
   "execution_count": null,
   "metadata": {
    "colab": {},
    "colab_type": "code",
    "id": "ma5T10Ms3iy4",
    "outputId": "621cc2ec-3df7-48df-bfec-c9b7d99da3db"
   },
   "outputs": [
    {
     "data": {
      "text/plain": [
       "'even'"
      ]
     },
     "execution_count": 24,
     "metadata": {
      "tags": []
     },
     "output_type": "execute_result"
    }
   ],
   "source": [
    "# Write a lambda function to check a number is even or odd\n",
    "\n",
    "f = lambda x: \"even\" if x % 2 == 0 else \"odd\"\n",
    "\n",
    "f(10)"
   ]
  },
  {
   "cell_type": "markdown",
   "metadata": {
    "colab_type": "text",
    "id": "uE3EmGA03izN"
   },
   "source": [
    "<h2 style = \"color:Brown\">map - filter - reduce"
   ]
  },
  {
   "cell_type": "markdown",
   "metadata": {
    "colab_type": "text",
    "id": "InpYMIOS3izQ"
   },
   "source": [
    "#### Some more examples on map - filter - reduce"
   ]
  },
  {
   "cell_type": "code",
   "execution_count": null,
   "metadata": {
    "colab": {},
    "colab_type": "code",
    "id": "W8koNAG93izR",
    "outputId": "81cf7228-2ec2-4d79-88f0-2600c16ed70b"
   },
   "outputs": [
    {
     "name": "stdout",
     "output_type": "stream",
     "text": [
      "<map object at 0x10d8aeb70>\n",
      "[4, 16, 25]\n"
     ]
    }
   ],
   "source": [
    "L1 = [2,4,5]\n",
    "print(map(lambda x: x**2, L1))\n",
    "print(list(map(lambda x: x**2, L1)))"
   ]
  },
  {
   "cell_type": "markdown",
   "metadata": {
    "colab_type": "text",
    "id": "LGwFbuqB3izb"
   },
   "source": [
    "#### Defining a function and using it in map"
   ]
  },
  {
   "cell_type": "code",
   "execution_count": null,
   "metadata": {
    "colab": {},
    "colab_type": "code",
    "id": "dp-JDMou3izc",
    "outputId": "8a7577f1-3134-43a0-9280-84f20b49b16f"
   },
   "outputs": [
    {
     "name": "stdout",
     "output_type": "stream",
     "text": [
      "[4, 16, 25]\n"
     ]
    }
   ],
   "source": [
    "L1 = [2,4,5]\n",
    "def squareit(n):\n",
    "    return n**2\n",
    "\n",
    "print(list(map(squareit, L1)))"
   ]
  },
  {
   "cell_type": "markdown",
   "metadata": {
    "colab_type": "text",
    "id": "KFDLcV613izj"
   },
   "source": [
    "#### Filter function to return the multiples of 3 "
   ]
  },
  {
   "cell_type": "code",
   "execution_count": null,
   "metadata": {
    "colab": {},
    "colab_type": "code",
    "id": "exVB0r-D3izm",
    "outputId": "c3a11090-d458-448e-a002-d79ff8bfb3c9"
   },
   "outputs": [
    {
     "name": "stdout",
     "output_type": "stream",
     "text": [
      "[3, 6, 9]\n"
     ]
    }
   ],
   "source": [
    "my_list = [3,4,5,6,7,8,9]\n",
    "\n",
    "divby3 = lambda x:  x % 3 == 0\n",
    "\n",
    "div = filter(divby3, my_list)\n",
    "print(list(div))\n"
   ]
  },
  {
   "cell_type": "markdown",
   "metadata": {
    "colab_type": "text",
    "id": "OkOrezsB3izr"
   },
   "source": [
    "#### Ex. Write a python program to count the students above age 18"
   ]
  },
  {
   "cell_type": "code",
   "execution_count": null,
   "metadata": {
    "colab": {},
    "colab_type": "code",
    "id": "smQD9y3U3iz0",
    "outputId": "a354103d-9879-4a88-a3a9-87ab15f7c7bb"
   },
   "outputs": [
    {
     "data": {
      "text/plain": [
       "2"
      ]
     },
     "execution_count": 30,
     "metadata": {
      "tags": []
     },
     "output_type": "execute_result"
    }
   ],
   "source": [
    "students_data = {1:['Sam', 15] , 2:['Rob',18], 3:['Kyle', 16], 4:['Cornor',19], 5:['Trump',20]}\n",
    "\n",
    "len(list(filter(lambda x : x[1] > 18, students_data.values())))"
   ]
  },
  {
   "cell_type": "markdown",
   "metadata": {
    "colab_type": "text",
    "id": "Bg9TKPmO3iz7"
   },
   "source": [
    "#### Reduce to return product of elements"
   ]
  },
  {
   "cell_type": "code",
   "execution_count": null,
   "metadata": {
    "colab": {},
    "colab_type": "code",
    "id": "UWwryD4z3iz-"
   },
   "outputs": [],
   "source": [
    "from functools import reduce\n",
    "\n",
    "q  = reduce(lambda x, y: x*y, range(1,4))\n",
    "\n",
    "print(q)"
   ]
  },
  {
   "cell_type": "code",
   "execution_count": 1,
   "metadata": {},
   "outputs": [],
   "source": [
    "input_list = ['Santa Cruz','Santa fe','Mumbai','Delhi']\n"
   ]
  },
  {
   "cell_type": "code",
   "execution_count": 25,
   "metadata": {},
   "outputs": [
    {
     "data": {
      "text/plain": [
       "2"
      ]
     },
     "execution_count": 25,
     "metadata": {},
     "output_type": "execute_result"
    }
   ],
   "source": [
    "input_list = ['Santa Cruz','Santa fe','Mumbai','Delhi','Mumbai']\n",
    "\n",
    "len(list(filter(lambda x : x[0][0] == \"S\", input_list)))"
   ]
  },
  {
   "cell_type": "code",
   "execution_count": 27,
   "metadata": {},
   "outputs": [
    {
     "data": {
      "text/plain": [
       "'Sz'"
      ]
     },
     "execution_count": 27,
     "metadata": {},
     "output_type": "execute_result"
    }
   ],
   "source": [
    "input_list = ['Santa Cruz']\n",
    "input_list[0][0]+input_list[0][-1]"
   ]
  },
  {
   "cell_type": "code",
   "execution_count": 50,
   "metadata": {},
   "outputs": [],
   "source": [
    "def check(x):\n",
    "    print(x[0])\n",
    "    print(x[-1] )\n",
    "    if x[0] == \"s\" and x[-1] == 'p':\n",
    "        return(x)\n",
    "   "
   ]
  },
  {
   "cell_type": "markdown",
   "metadata": {},
   "source": [
    "# Python Exam Practice"
   ]
  },
  {
   "cell_type": "markdown",
   "metadata": {},
   "source": [
    "## Chapter 1- Loops"
   ]
  },
  {
   "cell_type": "markdown",
   "metadata": {},
   "source": [
    "### Activity 1 - Print First 10 natural numbers using while loop"
   ]
  },
  {
   "cell_type": "code",
   "execution_count": 1,
   "metadata": {},
   "outputs": [
    {
     "name": "stdout",
     "output_type": "stream",
     "text": [
      "1\n",
      "2\n",
      "3\n",
      "4\n",
      "5\n",
      "6\n",
      "7\n",
      "8\n",
      "9\n",
      "10\n"
     ]
    }
   ],
   "source": [
    "a = 1\n",
    "while a<=10:\n",
    "    print (a)\n",
    "    a = a+1"
   ]
  },
  {
   "attachments": {
    "image.png": {
     "image/png": "[encoded data removed]"
    }
   },
   "cell_type": "markdown",
   "metadata": {},
   "source": [
    "### Activity 2 - Print the following pattern\n",
    "![image.png](attachment:image.png)"
   ]
  },
  {
   "cell_type": "code",
   "execution_count": 9,
   "metadata": {},
   "outputs": [
    {
     "name": "stdout",
     "output_type": "stream",
     "text": [
      "1  \n",
      "1 2  \n",
      "1 2 3  \n",
      "1 2 3 4  \n",
      "1 2 3 4 5  \n"
     ]
    }
   ],
   "source": [
    "n = 5\n",
    "for i in range(1,n+1,1):\n",
    "    for j in range(1,i+1,1):\n",
    "        print(j,end = ' ')\n",
    "    print(\" \")"
   ]
  },
  {
   "cell_type": "markdown",
   "metadata": {},
   "source": [
    "### Activity 3 - Calculate the sum of all numbers from 1 to a given number"
   ]
  },
  {
   "cell_type": "code",
   "execution_count": 15,
   "metadata": {},
   "outputs": [
    {
     "name": "stdout",
     "output_type": "stream",
     "text": [
      "enter a number10\n",
      "55\n"
     ]
    }
   ],
   "source": [
    "n=int(input(\"enter a number\"))\n",
    "s=0\n",
    "for i in range(1,n+1,1):\n",
    "    #print(i)\n",
    "    s = s+i\n",
    "print(s)"
   ]
  },
  {
   "cell_type": "markdown",
   "metadata": {},
   "source": [
    "### Activity 4 - Write a program to print multiplication table of a given number"
   ]
  },
  {
   "cell_type": "code",
   "execution_count": 21,
   "metadata": {},
   "outputs": [
    {
     "name": "stdout",
     "output_type": "stream",
     "text": [
      "enter a number5\n",
      "5\n",
      "10\n",
      "15\n",
      "20\n",
      "25\n",
      "30\n",
      "35\n",
      "40\n",
      "45\n",
      "50\n"
     ]
    }
   ],
   "source": [
    "n=int(input(\"enter a number\"))\n",
    "for i in range(n,n*11,n):\n",
    "    print(i)"
   ]
  },
  {
   "attachments": {
    "image.png": {
     "image/png": "[encoded data removed]"
    }
   },
   "cell_type": "markdown",
   "metadata": {},
   "source": [
    "### Activity 5 - Display numbers from a list using loop\n",
    "![image.png](attachment:image.png)\n",
    "numbers = [12, 75, 150, 180, 145, 525, 50]"
   ]
  },
  {
   "cell_type": "code",
   "execution_count": 37,
   "metadata": {},
   "outputs": [
    {
     "name": "stdout",
     "output_type": "stream",
     "text": [
      "75\n",
      "150\n",
      "180\n",
      "145\n",
      "50\n"
     ]
    }
   ],
   "source": [
    "numbers = [12, 75, 150, 180, 145, 525, 50]\n",
    "for i in numbers:\n",
    "    #print(i)\n",
    "    if i%5==0 and i <=500:\n",
    "        print(i)\n",
    "    if i > 150:\n",
    "        continue;\n",
    "    if i >500:\n",
    "        break;"
   ]
  },
  {
   "cell_type": "markdown",
   "metadata": {},
   "source": [
    "### Activity 6 - Count the total number of digits in a number 75869"
   ]
  },
  {
   "cell_type": "code",
   "execution_count": 47,
   "metadata": {},
   "outputs": [
    {
     "name": "stdout",
     "output_type": "stream",
     "text": [
      "5\n"
     ]
    }
   ],
   "source": [
    "n = 75869\n",
    "count = 0\n",
    "while n != 0:\n",
    "    n = n//10\n",
    "    count = count+1\n",
    "print(count)"
   ]
  },
  {
   "attachments": {
    "image.png": {
     "image/png": "[encoded data removed]"
    }
   },
   "cell_type": "markdown",
   "metadata": {},
   "source": [
    "### Activity 7 - Print the following pattern\n",
    "![image.png](attachment:image.png)"
   ]
  },
  {
   "cell_type": "code",
   "execution_count": 64,
   "metadata": {},
   "outputs": [
    {
     "name": "stdout",
     "output_type": "stream",
     "text": [
      "5 4 3 2 1  \n",
      "4 3 2 1  \n",
      "3 2 1  \n",
      "2 1  \n",
      "1  \n"
     ]
    }
   ],
   "source": [
    "n=5\n",
    "for i in range(1,n+1,1):\n",
    "    for j in range(n,0,-1):\n",
    "        print(j,end = ' ')\n",
    "        \n",
    "    print(\" \")\n",
    "    n=n-1"
   ]
  },
  {
   "cell_type": "markdown",
   "metadata": {},
   "source": [
    "### Activity 8 - Print list in areverse order using loop \n",
    "[10, 20, 30, 40, 50]"
   ]
  },
  {
   "cell_type": "code",
   "execution_count": 81,
   "metadata": {},
   "outputs": [
    {
     "name": "stdout",
     "output_type": "stream",
     "text": [
      "50\n",
      "40\n",
      "30\n",
      "20\n",
      "10\n"
     ]
    }
   ],
   "source": [
    "l = [10,20,30,40,50]\n",
    "l = list(reversed(l))\n",
    "for i in range(0,len(l),1):\n",
    "    print(l[i])\n"
   ]
  },
  {
   "cell_type": "markdown",
   "metadata": {},
   "source": [
    "### Activity 9 - Write a program to print all prime numbers within range 25,50"
   ]
  },
  {
   "cell_type": "code",
   "execution_count": 96,
   "metadata": {},
   "outputs": [
    {
     "name": "stdout",
     "output_type": "stream",
     "text": [
      "29\n",
      "31\n",
      "37\n",
      "41\n",
      "43\n",
      "47\n"
     ]
    }
   ],
   "source": [
    "a = 25\n",
    "b = 50\n",
    "for i in range(a,b):\n",
    "    if i > 1:\n",
    "        for j in range(2,i):\n",
    "            if i%j == 0:\n",
    "                break;\n",
    "        else: print(i)\n",
    "            \n"
   ]
  },
  {
   "cell_type": "markdown",
   "metadata": {},
   "source": [
    "### Activity 10 - Display Fibonacci series up to 10 terms"
   ]
  },
  {
   "cell_type": "code",
   "execution_count": 112,
   "metadata": {},
   "outputs": [
    {
     "data": {
      "text/plain": [
       "[0, 1, 1, 2, 3, 5, 8, 13, 21]"
      ]
     },
     "execution_count": 112,
     "metadata": {},
     "output_type": "execute_result"
    }
   ],
   "source": [
    "#[0,1,2,3...]\n",
    "n = 10\n",
    "l=[0,1]\n",
    "for i in range(1,n-2,1):\n",
    "    s=l[i-1]+l[i]\n",
    "    l.append(s)\n",
    "l     "
   ]
  },
  {
   "cell_type": "markdown",
   "metadata": {},
   "source": [
    "### Activity 11 - Find the factorial of a given number 5"
   ]
  },
  {
   "cell_type": "code",
   "execution_count": 116,
   "metadata": {},
   "outputs": [
    {
     "name": "stdout",
     "output_type": "stream",
     "text": [
      "120\n"
     ]
    }
   ],
   "source": [
    "n = 5\n",
    "s=1\n",
    "for i in range(n,0,-1):\n",
    "    s=s*i\n",
    "print(s)"
   ]
  },
  {
   "cell_type": "markdown",
   "metadata": {},
   "source": [
    "### Activity 12 - Reverse a given integer number 76542"
   ]
  },
  {
   "cell_type": "code",
   "execution_count": 129,
   "metadata": {},
   "outputs": [
    {
     "data": {
      "text/plain": [
       "'24567'"
      ]
     },
     "execution_count": 129,
     "metadata": {},
     "output_type": "execute_result"
    }
   ],
   "source": [
    "n = 76542\n",
    "count = 0\n",
    "k = []\n",
    "while n!= 0:\n",
    "    s = n%10\n",
    "    n = n//10\n",
    "    k.append(s)\n",
    "#76542%10\n",
    "#76542//10\n",
    "k = [str(i) for i in k]\n",
    "''.join(k)"
   ]
  },
  {
   "attachments": {
    "image.png": {
     "image/png": "[encoded data removed]"
    }
   },
   "cell_type": "markdown",
   "metadata": {},
   "source": [
    "### Activity 13 - Calculate the cube of all numbers from 1 to a given number 6\n",
    "![image.png](attachment:image.png)"
   ]
  },
  {
   "cell_type": "code",
   "execution_count": 133,
   "metadata": {},
   "outputs": [
    {
     "name": "stdout",
     "output_type": "stream",
     "text": [
      "Current Number is : 1 and the cube is 1\n",
      "Current Number is : 2 and the cube is 8\n",
      "Current Number is : 3 and the cube is 27\n",
      "Current Number is : 4 and the cube is 64\n",
      "Current Number is : 5 and the cube is 125\n",
      "Current Number is : 6 and the cube is 216\n"
     ]
    }
   ],
   "source": [
    "n = 6\n",
    "for i in range(1,n+1,1):\n",
    "    print(\"Current Number is : {} and the cube is {}\".format(i,i**3) )"
   ]
  },
  {
   "attachments": {
    "image.png": {
     "image/png": "[encoded data removed]"
    }
   },
   "cell_type": "markdown",
   "metadata": {},
   "source": [
    "### Activity 14 -  Find the sum of series - 2 upto n terms (n=5)\n",
    "![image.png](attachment:image.png)\n"
   ]
  },
  {
   "cell_type": "code",
   "execution_count": 142,
   "metadata": {},
   "outputs": [
    {
     "data": {
      "text/plain": [
       "24690"
      ]
     },
     "execution_count": 142,
     "metadata": {},
     "output_type": "execute_result"
    }
   ],
   "source": [
    "n=5\n",
    "a=2\n",
    "l=[]\n",
    "for i in range(1,n+1,1):\n",
    "    l.append(str(a)*i)\n",
    "\n",
    "\n",
    "l = [int(i) for i in l]\n",
    "sum(l)"
   ]
  },
  {
   "attachments": {
    "image.png": {
     "image/png": "[encoded data removed]"
    }
   },
   "cell_type": "markdown",
   "metadata": {},
   "source": [
    "### Activity 15 - Print the following pattern\n",
    "![image.png](attachment:image.png)"
   ]
  },
  {
   "cell_type": "code",
   "execution_count": 168,
   "metadata": {},
   "outputs": [
    {
     "name": "stdout",
     "output_type": "stream",
     "text": [
      "*  \n",
      "* *  \n",
      "* * *  \n",
      "* * * *  \n",
      "* * * * *  \n",
      "* * * *  \n",
      "* * *  \n",
      "* *  \n",
      "*  \n"
     ]
    }
   ],
   "source": [
    "n=5\n",
    "for i in range(0,n,1):\n",
    "    for j in range(0,i+1,1):\n",
    "        print(\"*\",end= ' ')\n",
    "    print(\" \")\n",
    "\n",
    "for i in range(n-1,0,-1):\n",
    "    for j in range(i+1,1,-1):\n",
    "        print(\"*\",end= ' ')\n",
    "    print(\" \")"
   ]
  },
  {
   "cell_type": "markdown",
   "metadata": {},
   "source": [
    "## Chapter 2 - Strings"
   ]
  },
  {
   "cell_type": "markdown",
   "metadata": {},
   "source": [
    "### Activity 16 - Create a string made of the first, middle and last character \"James\""
   ]
  },
  {
   "cell_type": "code",
   "execution_count": 174,
   "metadata": {},
   "outputs": [
    {
     "data": {
      "text/plain": [
       "'Jms'"
      ]
     },
     "execution_count": 174,
     "metadata": {},
     "output_type": "execute_result"
    }
   ],
   "source": [
    "s = \"James\"\n",
    "s[0]+s[int(round(len(s)/2,0))]+s[-1]"
   ]
  },
  {
   "cell_type": "markdown",
   "metadata": {},
   "source": [
    "### Activity 17 - Create a string made of the middle three characters \"JhonDipPeta\""
   ]
  },
  {
   "cell_type": "code",
   "execution_count": 191,
   "metadata": {},
   "outputs": [
    {
     "data": {
      "text/plain": [
       "'Dip'"
      ]
     },
     "execution_count": 191,
     "metadata": {},
     "output_type": "execute_result"
    }
   ],
   "source": [
    "s = 'JhonDipPeta'\n",
    "\n",
    "s[int(len(s)/2)-1:int(len(s)/2)+2]"
   ]
  },
  {
   "attachments": {
    "image.png": {
     "image/png": "[encoded data removed]"
    }
   },
   "cell_type": "markdown",
   "metadata": {},
   "source": [
    "### Activity 18 - Append new string in the middle of a given string\n",
    "![image.png](attachment:image.png)"
   ]
  },
  {
   "cell_type": "code",
   "execution_count": 207,
   "metadata": {},
   "outputs": [
    {
     "data": {
      "text/plain": [
       "'AuKellylt'"
      ]
     },
     "execution_count": 207,
     "metadata": {},
     "output_type": "execute_result"
    }
   ],
   "source": [
    "s1 = 'Ault'\n",
    "s2 = 'Kelly'\n",
    "s1[0:int(len(s1)/2)]+s2+s1[int(len(s1)/2):len(s1)+1]"
   ]
  },
  {
   "cell_type": "markdown",
   "metadata": {},
   "source": [
    "### Activity 19 - Arrange string characters such that lowercase letters should come first PyNaTive"
   ]
  },
  {
   "cell_type": "code",
   "execution_count": 221,
   "metadata": {},
   "outputs": [
    {
     "name": "stdout",
     "output_type": "stream",
     "text": [
      "yaivePNT"
     ]
    }
   ],
   "source": [
    "s = 'PyNaTive'\n",
    "for letters in s:\n",
    "    if letters.islower() == True:\n",
    "        print (letters,end='')\n",
    "     \n",
    "for letters in s:\n",
    "    if letters.islower() == False:\n",
    "        print (letters,end='')\n"
   ]
  },
  {
   "cell_type": "markdown",
   "metadata": {},
   "source": [
    "### Activity 20 - Count all letters, digits, and special symbols from a given string \"P@#yn26at^&i5ve\""
   ]
  },
  {
   "cell_type": "code",
   "execution_count": 229,
   "metadata": {},
   "outputs": [
    {
     "name": "stdout",
     "output_type": "stream",
     "text": [
      "letters = 8\n",
      "digits = 3\n",
      "symbols = 4\n"
     ]
    }
   ],
   "source": [
    "s = \"P@#yn26at^&i5ve\"\n",
    "l1 = []\n",
    "l2 = []\n",
    "l3 = []\n",
    "for letters in s:\n",
    "    if letters.isalpha() == True:\n",
    "        l1.append(letters)\n",
    "    elif letters.isdigit() == True:\n",
    "        l2.append(letters)\n",
    "    else:\n",
    "        l3.append(letters)\n",
    "print(\"letters = {}\".format(len(l1)))\n",
    "print(\"digits = {}\".format(len(l2)))\n",
    "print(\"symbols = {}\".format(len(l3)))"
   ]
  },
  {
   "cell_type": "markdown",
   "metadata": {},
   "source": [
    "### Activity 21- Write a program to check if two strings are balanced. For example, strings s1 and s2 are balanced if all the characters in the s1 are present in s2. The character’s position doesn’t matter\n",
    "s1 = \"Yn\"\n",
    "s2 = \"PYnative\""
   ]
  },
  {
   "cell_type": "code",
   "execution_count": 244,
   "metadata": {},
   "outputs": [
    {
     "name": "stdout",
     "output_type": "stream",
     "text": [
      "True\n"
     ]
    }
   ],
   "source": [
    "s1 = 'Yn'\n",
    "s2 = 'PYnative'\n",
    "\n",
    "s1 = s1.lower()\n",
    "s2 = s2.lower()\n",
    "\n",
    "for letters in s1:\n",
    "    if letters in s2:\n",
    "        flag=1\n",
    "    else:\n",
    "        flag=0\n",
    "if flag==1:\n",
    "    print (True)\n",
    "else: print(False)"
   ]
  },
  {
   "cell_type": "markdown",
   "metadata": {},
   "source": [
    "### Activity 22 - Write a program to find all occurrences of “USA” in a given string.\n",
    "str1 = \"Welcome to USA. usa awesome, isn't it?\""
   ]
  },
  {
   "cell_type": "code",
   "execution_count": 254,
   "metadata": {},
   "outputs": [
    {
     "name": "stdout",
     "output_type": "stream",
     "text": [
      "welcome\n",
      "to\n",
      "usa\n",
      "usa\n",
      "awesome,\n",
      "isn't\n",
      "it?\n",
      "2\n"
     ]
    }
   ],
   "source": [
    "str1 = \"Welcome to USA. usa awesome, isn't it?\"\n",
    "str1 = str1.lower()\n",
    "str1 = str1.replace('.','')\n",
    "count=0\n",
    "for word in str1.split():\n",
    "    print(word)\n",
    "    if word == 'usa':\n",
    "        count = count+1\n",
    "print(count)"
   ]
  },
  {
   "cell_type": "markdown",
   "metadata": {},
   "source": [
    "### Activity 23 - Calculate the sum and average of the digits present in a string \"PYnative29@#8496\""
   ]
  },
  {
   "cell_type": "code",
   "execution_count": 264,
   "metadata": {},
   "outputs": [
    {
     "name": "stdout",
     "output_type": "stream",
     "text": [
      "sum = 38, average = 6.333333333333333\n"
     ]
    }
   ],
   "source": [
    "s = \"PYnative29@#8496\"\n",
    "l = [int(i) for i in s if i.isdigit()==True]\n",
    "print('sum = {}, average = {}'.format(sum(l),sum(l)/len(l)))\n"
   ]
  },
  {
   "cell_type": "markdown",
   "metadata": {},
   "source": [
    "### Activity 24 - Write a program to count occurrences of all characters within a string \"Apple\""
   ]
  },
  {
   "cell_type": "code",
   "execution_count": 281,
   "metadata": {},
   "outputs": [
    {
     "name": "stdout",
     "output_type": "stream",
     "text": [
      "{'a': 1, 'p': 2, 'l': 1, 'e': 1}\n"
     ]
    }
   ],
   "source": [
    "str1 = 'Apple'\n",
    "str1 = str1.lower()\n",
    "d = {}\n",
    "for letters in str1:\n",
    "    if letters not in d.keys():\n",
    "        d[letters] = 1 \n",
    "    else: d[letters] = d[letters]+1\n",
    "        \n",
    "print(d)"
   ]
  },
  {
   "cell_type": "markdown",
   "metadata": {},
   "source": [
    "### Activity 25 - Reverse a given string \"\"PYnative\"\""
   ]
  },
  {
   "cell_type": "code",
   "execution_count": 303,
   "metadata": {},
   "outputs": [
    {
     "name": "stdout",
     "output_type": "stream",
     "text": [
      "evitanYP\n",
      "evitanYP\n"
     ]
    }
   ],
   "source": [
    "str1 = \"PYnative\"\n",
    "d = []\n",
    "for i in range(len(str1)-1,-1,-1):\n",
    "    d.append(str1[i])\n",
    "print(''.join(d))\n",
    "print(str1[::-1])"
   ]
  },
  {
   "cell_type": "markdown",
   "metadata": {},
   "source": [
    "### Activity 26 - Split a string on hyphens \"Emma-is-a-data-scientist\""
   ]
  },
  {
   "cell_type": "code",
   "execution_count": 307,
   "metadata": {},
   "outputs": [
    {
     "name": "stdout",
     "output_type": "stream",
     "text": [
      "Emma\n",
      "is\n",
      "a\n",
      "data\n",
      "scientist\n"
     ]
    }
   ],
   "source": [
    "str1 = 'Emma-is-a-data-scientist'\n",
    "for word in str1.split('-'):\n",
    "    print(word)"
   ]
  },
  {
   "cell_type": "markdown",
   "metadata": {},
   "source": [
    "### Activity 27 - Remove empty strings from a list [\"Emma\", \"Jon\", \"\", \"Kelly\", None, \"Eric\", \"\"]"
   ]
  },
  {
   "cell_type": "code",
   "execution_count": 318,
   "metadata": {},
   "outputs": [
    {
     "data": {
      "text/plain": [
       "['Emma', 'Jon', 'Kelly', 'Eric']"
      ]
     },
     "execution_count": 318,
     "metadata": {},
     "output_type": "execute_result"
    }
   ],
   "source": [
    "l1 = [\"Emma\", \"Jon\", \"\", \"Kelly\", None, \"Eric\", \"\"]\n",
    "list(filter(None,l1))"
   ]
  },
  {
   "cell_type": "markdown",
   "metadata": {},
   "source": [
    "### Activity 28 - Replace each special symbol with # in the following string '/*Jon is @developer & musician!!'"
   ]
  },
  {
   "cell_type": "code",
   "execution_count": 333,
   "metadata": {},
   "outputs": [
    {
     "data": {
      "text/plain": [
       "'##Jon is #developer # musician##'"
      ]
     },
     "execution_count": 333,
     "metadata": {},
     "output_type": "execute_result"
    }
   ],
   "source": [
    "str1 = '/*Jon is @developer & musician!!'\n",
    "l1 = []\n",
    "for letters in str1:\n",
    "        \n",
    "    if letters.isalpha()==False and letters.isdigit()==False and letters != ' ':\n",
    "        letters = '#'\n",
    "        #print(letters)\n",
    "    l1.append(letters)\n",
    "\n",
    "''.join(l1)"
   ]
  },
  {
   "cell_type": "markdown",
   "metadata": {},
   "source": [
    "### Activity 29 - Removal all characters from a string except integers 'I am 25 years and 10 months old'"
   ]
  },
  {
   "cell_type": "code",
   "execution_count": 343,
   "metadata": {},
   "outputs": [
    {
     "data": {
      "text/plain": [
       "'2510'"
      ]
     },
     "execution_count": 343,
     "metadata": {},
     "output_type": "execute_result"
    }
   ],
   "source": [
    "str1 = 'I am 25 years and 10 months old'\n",
    "l1 = []\n",
    "for letters in str1:\n",
    "    if letters.isdigit() ==True:  \n",
    "        l1.append(letters)\n",
    "''.join(l1)"
   ]
  },
  {
   "cell_type": "markdown",
   "metadata": {},
   "source": [
    "## Chapter 3 - Functions"
   ]
  },
  {
   "cell_type": "markdown",
   "metadata": {},
   "source": [
    "### Activity 30 - Write a program to create a function that takes two arguments, name and age, and print their value."
   ]
  },
  {
   "cell_type": "code",
   "execution_count": 347,
   "metadata": {},
   "outputs": [
    {
     "data": {
      "text/plain": [
       "('Pranjal', 27)"
      ]
     },
     "execution_count": 347,
     "metadata": {},
     "output_type": "execute_result"
    }
   ],
   "source": [
    "def profile(name,age):\n",
    "    return (name,age)\n",
    "profile('Pranjal',27)"
   ]
  },
  {
   "cell_type": "markdown",
   "metadata": {},
   "source": [
    "### Activity 31 - Write a program to create function func1() to accept a variable length of arguments and print their value."
   ]
  },
  {
   "cell_type": "code",
   "execution_count": 351,
   "metadata": {},
   "outputs": [
    {
     "data": {
      "text/plain": [
       "('1', 'a', 3, 'f')"
      ]
     },
     "execution_count": 351,
     "metadata": {},
     "output_type": "execute_result"
    }
   ],
   "source": [
    "def func1(*args):\n",
    "    return(args)\n",
    "func1('1','a',3,'f')"
   ]
  },
  {
   "cell_type": "markdown",
   "metadata": {},
   "source": [
    "### Activity 32 - Write a program to create a function show_employee() using the following conditions.\n",
    "\n",
    "It should accept the employee’s name and salary and display both.\n",
    "If the salary is missing in the function call then assign default value 9000 to salary"
   ]
  },
  {
   "cell_type": "code",
   "execution_count": 353,
   "metadata": {},
   "outputs": [
    {
     "name": "stdout",
     "output_type": "stream",
     "text": [
      "('Pranjal', 1000)\n",
      "('Pranjal', 9000)\n"
     ]
    }
   ],
   "source": [
    "def show_employee(name,salary=9000):\n",
    "    return(name,salary)\n",
    "print(show_employee('Pranjal',1000))\n",
    "print(show_employee('Pranjal'))"
   ]
  },
  {
   "cell_type": "code",
   "execution_count": 355,
   "metadata": {},
   "outputs": [
    {
     "data": {
      "text/plain": [
       "15"
      ]
     },
     "execution_count": 355,
     "metadata": {},
     "output_type": "execute_result"
    }
   ],
   "source": [
    "def outer_func(a,b):\n",
    "    def inner_func(a,b):\n",
    "        return(a+b)\n",
    "    return (inner_func(a,b)+5)\n",
    "outer_func(5,5)"
   ]
  },
  {
   "cell_type": "markdown",
   "metadata": {},
   "source": [
    "### Activity 33 - Write a program to create a recursive function to calculate the sum of numbers from 0 to 10."
   ]
  },
  {
   "cell_type": "code",
   "execution_count": 361,
   "metadata": {},
   "outputs": [
    {
     "data": {
      "text/plain": [
       "55"
      ]
     },
     "execution_count": 361,
     "metadata": {},
     "output_type": "execute_result"
    }
   ],
   "source": [
    "def rec_sum(n):\n",
    "    if n>0:\n",
    "        return( n + rec_sum(n-1))\n",
    "    else:\n",
    "        return 0\n",
    "rec_sum(10)      "
   ]
  },
  {
   "cell_type": "markdown",
   "metadata": {},
   "source": [
    "## Chapter 4 - Data Structures [Lists] (Tuples) Sets{} {Dictionary}"
   ]
  },
  {
   "cell_type": "markdown",
   "metadata": {},
   "source": [
    "### Activity 34 - Create a list by picking an odd-index items from the first list and even index items from the second\n",
    "l1 = [3, 6, 9, 12, 15, 18, 21]\n",
    "l2 = [4, 8, 12, 16, 20, 24, 28]"
   ]
  },
  {
   "cell_type": "code",
   "execution_count": 372,
   "metadata": {},
   "outputs": [
    {
     "data": {
      "text/plain": [
       "[3, 9, 15, 21, 4, 8, 12, 16, 20, 24, 28]"
      ]
     },
     "execution_count": 372,
     "metadata": {},
     "output_type": "execute_result"
    }
   ],
   "source": [
    "l1 = [3, 6, 9, 12, 15, 18, 21]\n",
    "l2 = [4, 8, 12, 16, 20, 24, 28]\n",
    "l3 = [i for i in l1 if i%2!=0]\n",
    "l4 = [i for i in l2 if i%2==0]\n",
    "l3+l4"
   ]
  },
  {
   "cell_type": "markdown",
   "metadata": {},
   "source": [
    "### Activity 35 - Write a program to remove the item present at index 4 and add it to the 2nd position and at the end of the list.\n",
    "list1 = [54, 44, 27, 79, 91, 41]"
   ]
  },
  {
   "cell_type": "code",
   "execution_count": 396,
   "metadata": {},
   "outputs": [
    {
     "name": "stdout",
     "output_type": "stream",
     "text": [
      "[34, 54, 67, 89, 43, 94]\n",
      "[34, 54, 11, 67, 89, 43, 94]\n",
      "[34, 54, 11, 67, 89, 43, 94, 11]\n"
     ]
    }
   ],
   "source": [
    "list1 = [34, 54, 67, 89, 11, 43, 94]\n",
    "element = list1.pop(4)\n",
    "print(list1)\n",
    "list1.insert(2,element)\n",
    "print(list1)\n",
    "list1.insert(len(list1),element)\n",
    "print(list1)"
   ]
  },
  {
   "cell_type": "markdown",
   "metadata": {},
   "source": [
    "### Activity 36 - Slice list into 3 equal chunks and reverse each chunk [11, 45, 8, 23, 14, 12, 78, 45, 89]"
   ]
  },
  {
   "cell_type": "code",
   "execution_count": 406,
   "metadata": {},
   "outputs": [
    {
     "name": "stdout",
     "output_type": "stream",
     "text": [
      "[8, 45, 11] [12, 14, 23] [89, 45, 78]\n"
     ]
    }
   ],
   "source": [
    "l1 = [11, 45, 8, 23, 14, 12, 78, 45, 89]\n",
    "l2 = l1[0:int(len(l1)/3)]\n",
    "l3 = l1[int(len(l1)/3):int(len(l1)/3)*2]\n",
    "l4 = l1[int(len(l1)/3)*2:int(len(l1)/3)*3]\n",
    "print(list(reversed(l2)),list(reversed(l3)),list(reversed(l4)))\n"
   ]
  },
  {
   "cell_type": "markdown",
   "metadata": {},
   "source": [
    "### Activity 37 - Count the occurences of each element from the list [11, 45, 8, 11, 23, 45, 23, 45, 89]"
   ]
  },
  {
   "cell_type": "code",
   "execution_count": 408,
   "metadata": {},
   "outputs": [
    {
     "name": "stdout",
     "output_type": "stream",
     "text": [
      "{11: 2, 45: 3, 8: 1, 23: 2, 89: 1}\n"
     ]
    }
   ],
   "source": [
    "l1 = [11, 45, 8, 11, 23, 45, 23, 45, 89]\n",
    "d={}\n",
    "for i in l1:\n",
    "    if i not in d.keys():\n",
    "        d[i] = 1\n",
    "    else: d[i] = d[i]+1\n",
    "print(d)"
   ]
  },
  {
   "cell_type": "markdown",
   "metadata": {},
   "source": [
    "### Activity 38 - Create a Python set such that it shows the element from both lists in a pair\n",
    "first_list = [2, 3, 4, 5, 6, 7, 8]\n",
    "second_list = [4, 9, 16, 25, 36, 49, 64]\n",
    "Expected Output - {(6, 36), (8, 64), (4, 16), (5, 25), (3, 9), (7, 49), (2, 4)}"
   ]
  },
  {
   "cell_type": "code",
   "execution_count": 417,
   "metadata": {},
   "outputs": [
    {
     "name": "stdout",
     "output_type": "stream",
     "text": [
      "[(2, 4), (3, 9), (4, 16), (5, 25), (6, 36), (7, 49), (8, 64)]\n",
      "{(7, 49), (2, 4), (4, 16), (8, 64), (6, 36), (3, 9), (5, 25)}\n"
     ]
    }
   ],
   "source": [
    "first_list = [2, 3, 4, 5, 6, 7, 8] \n",
    "second_list = [4, 9, 16, 25, 36, 49, 64]\n",
    "first_list = set(first_list)\n",
    "second_list = set(second_list)\n",
    "d = []\n",
    "for i in first_list:\n",
    "    for j in second_list:\n",
    "        if i**2 == j:\n",
    "            d.append((i,j))\n",
    "        \n",
    "print(d)\n",
    "\n",
    "first_list = [2, 3, 4, 5, 6, 7, 8] \n",
    "second_list = [4, 9, 16, 25, 36, 49, 64]\n",
    "print(set(zip(first_list,second_list)))"
   ]
  },
  {
   "cell_type": "code",
   "execution_count": 434,
   "metadata": {},
   "outputs": [
    {
     "data": {
      "text/plain": [
       "[65, 42, 78, 23]"
      ]
     },
     "execution_count": 434,
     "metadata": {},
     "output_type": "execute_result"
    }
   ],
   "source": [
    "### Activity 39 - Find the intersection (common) of two sets and remove those elements from the first set\n",
    "first_set = {23, 42, 65, 57, 78, 83, 29}\n",
    "second_set = {57, 83, 29, 67, 73, 43, 48}\n",
    "elements  = first_set.intersection(second_set)\n",
    "[i for i in first_set if i not in elements] "
   ]
  },
  {
   "cell_type": "markdown",
   "metadata": {},
   "source": [
    "### Activity 40 - Checks if one set is a subset or superset of another set. If found, delete all elements from that set\n",
    "first_set = {27, 43, 34}\n",
    "second_set = {34, 93, 22, 27, 43, 53, 48}"
   ]
  },
  {
   "cell_type": "code",
   "execution_count": 441,
   "metadata": {},
   "outputs": [
    {
     "name": "stdout",
     "output_type": "stream",
     "text": [
      "set()\n",
      "{34, 43, 48, 53, 22, 27, 93}\n"
     ]
    }
   ],
   "source": [
    "first_set = {27, 43, 34}\n",
    "second_set = {34, 93, 22, 27, 43, 53, 48}\n",
    "if first_set.issubset(second_set):\n",
    "    first_set.clear()\n",
    "if second_set.issubset(first_set):\n",
    "    second_set.clear()\n",
    "print(first_set)\n",
    "print(second_set)"
   ]
  },
  {
   "cell_type": "markdown",
   "metadata": {},
   "source": [
    "### Activity 41 - Iterate a given list and check if a given element exists as a key’s value in a dictionary. If not, delete it from the list\n",
    "roll_number = [47, 64, 69, 37, 76, 83, 95, 97]\n",
    "sample_dict = {'Jhon':47, 'Emma':69, 'Kelly':76, 'Jason':97}"
   ]
  },
  {
   "cell_type": "code",
   "execution_count": 446,
   "metadata": {},
   "outputs": [
    {
     "data": {
      "text/plain": [
       "[47, 69, 76, 95, 97]"
      ]
     },
     "execution_count": 446,
     "metadata": {},
     "output_type": "execute_result"
    }
   ],
   "source": [
    "roll_number = [47, 64, 69, 37, 76, 83, 95, 97]\n",
    "sample_dict = {'Jhon':47, 'Emma':69, 'Kelly':76, 'Jason':97}\n",
    "for l in roll_number:\n",
    "    if l not in sample_dict.values():\n",
    "        roll_number.remove(l)\n",
    "roll_number"
   ]
  },
  {
   "cell_type": "markdown",
   "metadata": {},
   "source": [
    "### Activity 42 - Remove duplicates from a list and create a tuple and find the minimum and maximum number\n",
    "[87, 45, 41, 65, 94, 41, 99, 94]"
   ]
  },
  {
   "cell_type": "code",
   "execution_count": 452,
   "metadata": {},
   "outputs": [
    {
     "name": "stdout",
     "output_type": "stream",
     "text": [
      "(65, 99, 41, 45, 87, 94)\n",
      "99\n",
      "41\n"
     ]
    }
   ],
   "source": [
    "l1 = [87, 45, 41, 65, 94, 41, 99, 94]\n",
    "t1 = tuple(set(l1))\n",
    "print(t1)\n",
    "print(max(t1))\n",
    "print(min(t1))"
   ]
  },
  {
   "cell_type": "markdown",
   "metadata": {},
   "source": [
    "### Activty 43 -  Unpack the tuple into 4 variables \n",
    "tuple1 = (10, 20, 30, 40)"
   ]
  },
  {
   "cell_type": "code",
   "execution_count": 456,
   "metadata": {},
   "outputs": [
    {
     "name": "stdout",
     "output_type": "stream",
     "text": [
      "10 20 30 40\n"
     ]
    }
   ],
   "source": [
    "tuple1 = (10, 20, 30, 40)\n",
    "a,b,c,d = tuple1\n",
    "print(a,b,c,d)"
   ]
  },
  {
   "cell_type": "markdown",
   "metadata": {},
   "source": [
    "### Activity 44 - Sort a tuple of tuples by 2nd item (('a', 23),('b', 37),('c', 11), ('d',29))"
   ]
  },
  {
   "cell_type": "code",
   "execution_count": 473,
   "metadata": {},
   "outputs": [
    {
     "name": "stdout",
     "output_type": "stream",
     "text": [
      "(('c', 11), ('a', 23), ('d', 29), ('b', 37))\n"
     ]
    }
   ],
   "source": [
    "tuple1 = (('a', 23), ('b', 37), ('c', 11), ('d', 29))\n",
    "tuple1 = tuple(sorted(list(tuple1), key=lambda x: x[1]))\n",
    "print(tuple1)"
   ]
  },
  {
   "cell_type": "markdown",
   "metadata": {},
   "source": [
    "### Activity 45 - Write a program to add all its elements into a given set.\n",
    "sample_set = {\"Yellow\", \"Orange\", \"Black\"}\n",
    "sample_list = [\"Blue\", \"Green\", \"Red\"]"
   ]
  },
  {
   "cell_type": "code",
   "execution_count": 476,
   "metadata": {},
   "outputs": [
    {
     "data": {
      "text/plain": [
       "{'Black', 'Blue', 'Green', 'Orange', 'Red', 'Yellow'}"
      ]
     },
     "execution_count": 476,
     "metadata": {},
     "output_type": "execute_result"
    }
   ],
   "source": [
    "sample_set = {\"Yellow\", \"Orange\", \"Black\"}\n",
    "sample_list = [\"Blue\", \"Green\", \"Red\"]\n",
    "sample_set.update(sample_list)\n",
    "sample_set"
   ]
  },
  {
   "cell_type": "markdown",
   "metadata": {},
   "source": [
    "### Activity 46 - Return union,intersection, a set of item present in set 1 but not in set 2 and a set of elements present in Set A or B, but not both\n",
    "set1 = {10, 20, 30, 40, 50}\n",
    "set2 = {30, 40, 50, 60, 70}\n"
   ]
  },
  {
   "cell_type": "code",
   "execution_count": 479,
   "metadata": {},
   "outputs": [
    {
     "name": "stdout",
     "output_type": "stream",
     "text": [
      "{70, 40, 10, 50, 20, 60, 30}\n",
      "{40, 50, 30}\n",
      "{10, 20}\n",
      "{20, 70, 10, 60}\n"
     ]
    }
   ],
   "source": [
    "set1 = {10, 20, 30, 40, 50}\n",
    "set2 = {30, 40, 50, 60, 70}\n",
    "print(set1.union(set2))\n",
    "print(set1.intersection(set2))\n",
    "print(set1.difference(set2))\n",
    "print(set1.symmetric_difference(set2))"
   ]
  },
  {
   "cell_type": "markdown",
   "metadata": {},
   "source": [
    "### Activity 47 - Convert two lists into a dictionary\n",
    "keys = ['Ten', 'Twenty', 'Thirty']\n",
    "values = [10, 20, 30]"
   ]
  },
  {
   "cell_type": "code",
   "execution_count": 482,
   "metadata": {},
   "outputs": [
    {
     "name": "stdout",
     "output_type": "stream",
     "text": [
      "{'Ten': 10, 'Twenty': 20, 'Thirty': 30}\n"
     ]
    }
   ],
   "source": [
    "keys = ['Ten', 'Twenty', 'Thirty']\n",
    "values = [10, 20, 30]\n",
    "d = dict(zip(keys,values))\n",
    "print(d)"
   ]
  },
  {
   "cell_type": "markdown",
   "metadata": {},
   "source": [
    "### Activity 48 - Merge two Python dictionaries into one\n",
    "dict1 = {'Ten': 10, 'Twenty': 20, 'Thirty': 30}\n",
    "dict2 = {'Thirty': 30, 'Fourty': 40, 'Fifty': 50}"
   ]
  },
  {
   "cell_type": "code",
   "execution_count": 485,
   "metadata": {},
   "outputs": [
    {
     "name": "stdout",
     "output_type": "stream",
     "text": [
      "{'Ten': 10, 'Twenty': 20, 'Thirty': 30, 'Fourty': 40, 'Fifty': 50}\n"
     ]
    }
   ],
   "source": [
    "dict1 = {'Ten': 10, 'Twenty': 20, 'Thirty': 30}\n",
    "dict2 = {'Thirty': 30, 'Fourty': 40, 'Fifty': 50}\n",
    "dict1.update(dict2)\n",
    "print(dict1)"
   ]
  },
  {
   "cell_type": "markdown",
   "metadata": {},
   "source": [
    "### Activity 49 - Print the value of key ‘history’ from the below dict\n",
    "sampleDict = {\n",
    "    \"class\": {\n",
    "        \"student\": {\n",
    "            \"name\": \"Mike\",\n",
    "            \"marks\": {\n",
    "                \"physics\": 70,\n",
    "                \"history\": 80\n",
    "            }\n",
    "        }\n",
    "    }\n",
    "}"
   ]
  },
  {
   "cell_type": "code",
   "execution_count": 491,
   "metadata": {},
   "outputs": [
    {
     "data": {
      "text/plain": [
       "80"
      ]
     },
     "execution_count": 491,
     "metadata": {},
     "output_type": "execute_result"
    }
   ],
   "source": [
    "sampleDict = {\n",
    "    \"class\": {\n",
    "        \"student\": {\n",
    "            \"name\": \"Mike\",\n",
    "            \"marks\": {\n",
    "                \"physics\": 70,\n",
    "                \"history\": 80\n",
    "            }\n",
    "        }\n",
    "    }\n",
    "}\n",
    "sampleDict['class']['student']['marks']['history']"
   ]
  },
  {
   "cell_type": "markdown",
   "metadata": {},
   "source": [
    "### Activity 50 - Delete a list of keys from a dictionary\n",
    "sample_dict = {\n",
    "    \"name\": \"Kelly\",\n",
    "    \"age\": 25,\n",
    "    \"salary\": 8000,\n",
    "    \"city\": \"New york\"\n",
    "}\n",
    "\n",
    "###### Keys to remove\n",
    "keys = [\"name\", \"salary\"]"
   ]
  },
  {
   "cell_type": "code",
   "execution_count": 498,
   "metadata": {},
   "outputs": [
    {
     "name": "stdout",
     "output_type": "stream",
     "text": [
      "{'age': 25, 'city': 'New york'}\n"
     ]
    }
   ],
   "source": [
    "sample_dict = {\n",
    "    \"name\": \"Kelly\",\n",
    "    \"age\": 25,\n",
    "    \"salary\": 8000,\n",
    "    \"city\": \"New york\"\n",
    "}\n",
    "\n",
    "# Keys to remove\n",
    "keys = [\"name\", \"salary\"]\n",
    "\n",
    "for k in keys:\n",
    "    sample_dict.pop(k)\n",
    "print(sample_dict)"
   ]
  },
  {
   "cell_type": "markdown",
   "metadata": {},
   "source": [
    "### Activity 51 - Get the key of a minimum value from the following dictionary\n",
    "sample_dict = {\n",
    "  'Physics': 82,\n",
    "  'Math': 65,\n",
    "  'history': 75\n",
    "}"
   ]
  },
  {
   "cell_type": "code",
   "execution_count": 505,
   "metadata": {},
   "outputs": [
    {
     "name": "stdout",
     "output_type": "stream",
     "text": [
      "Math\n",
      "Math\n"
     ]
    }
   ],
   "source": [
    "sample_dict = {\n",
    "  'Physics': 82,\n",
    "  'Math': 65,\n",
    "  'history': 75\n",
    "}\n",
    "\n",
    "a = min(sample_dict.values())\n",
    "for key,values in sample_dict.items():\n",
    "    if values == a:\n",
    "        print(key)\n",
    "\n",
    "#Another way\n",
    "print(min(sample_dict, key=sample_dict.get))"
   ]
  }
 ],
 "metadata": {
  "colab": {
   "collapsed_sections": [],
   "name": "Session 3.ipynb",
   "provenance": []
  },
  "kernelspec": {
   "display_name": "Python 3",
   "language": "python",
   "name": "python3"
  },
  "language_info": {
   "codemirror_mode": {
    "name": "ipython",
    "version": 3
   },
   "file_extension": ".py",
   "mimetype": "text/x-python",
   "name": "python",
   "nbconvert_exporter": "python",
   "pygments_lexer": "ipython3",
   "version": "3.8.8"
  }
 },
 "nbformat": 4,
 "nbformat_minor": 1
}
